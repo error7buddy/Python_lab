{
 "cells": [
  {
   "cell_type": "code",
   "execution_count": null,
   "metadata": {},
   "outputs": [],
   "source": [
    "pip install sympy"
   ]
  },
  {
   "cell_type": "code",
   "execution_count": 15,
   "metadata": {},
   "outputs": [
    {
     "name": "stdout",
     "output_type": "stream",
     "text": [
      "    2   3    4 \n",
      "1 + ─ + ── + ──\n",
      "    z    2    3\n",
      "        z    z \n"
     ]
    }
   ],
   "source": [
    "import sympy as sp\n",
    "z = sp.Symbol('z')\n",
    "xn = [1, 2, 3,4]\n",
    "Xz = sum(xn[n] * z**(-n) for n in range(len(xn)))\n",
    "sp.pprint(Xz, use_unicode=True)\n"
   ]
  },
  {
   "cell_type": "code",
   "execution_count": 20,
   "metadata": {},
   "outputs": [
    {
     "name": "stdout",
     "output_type": "stream",
     "text": [
      "Z-transform X(z):\n",
      "1 + 2/z + 3/z**2 + 4/z**3\n"
     ]
    }
   ],
   "source": [
    "\n",
    "import sympy as sp\n",
    "import matplotlib.pyplot as plt \n",
    "import numpy as np\n",
    "z = 10\n",
    "x_n = [2, 2, 1, 3, 1, 1, 0, 2, 8]\n",
    "X_Z=sum(x_n[n]*(z**(-n)) for n in range(len(x_n)))\n",
    "print(\"Z-transform X(z):\")\n",
    "print (X_z)"
   ]
  },
  {
   "cell_type": "code",
   "execution_count": 21,
   "metadata": {},
   "outputs": [
    {
     "name": "stdout",
     "output_type": "stream",
     "text": [
      "Symbolic Z-transform X(z):\n",
      "    2   3    4 \n",
      "1 + ─ + ── + ──\n",
      "    z    2    3\n",
      "        z    z \n",
      "\n",
      "X(z) evaluated at z = 221311028: 1.00000000903706\n"
     ]
    }
   ],
   "source": [
    "import sympy as sp\n",
    "\n",
    "z = sp.Symbol('z')\n",
    "x_n = [1, 2, 3, 4]\n",
    "X_z = sum(x_n[n] * z**(-n) for n in range(len(x_n)))\n",
    "print(\"Symbolic Z-transform X(z):\")\n",
    "sp.pprint(X_z, use_unicode=True)\n",
    "\n",
    "z_val = 221311028\n",
    "X_eval = X_z.evalf(subs={z: z_val})\n",
    "print(f\"\\nX(z) evaluated at z = {z_val}:\", X_eval)\n"
   ]
  },
  {
   "cell_type": "code",
   "execution_count": 33,
   "metadata": {},
   "outputs": [
    {
     "name": "stdout",
     "output_type": "stream",
     "text": [
      "Symbolic Z-transform X(z):\n",
      "     1   3    4    1    1    2    8 \n",
      "-2 - ─ - ── - ── - ── - ── - ── - ──\n",
      "     z    2    3    4    5    7    8\n",
      "         z    z    z    z    z    z \n",
      "\n",
      "Z-transform evaluated at z = 10:\n",
      "-53352757/25000000\n",
      "The signal is LEFT-sided.\n"
     ]
    }
   ],
   "source": [
    "import sympy as sp\n",
    "\n",
    "z = sp.Symbol('z')\n",
    "x_n = [2, 1, 3, 4, 1, 1, 0, 2, 8]\n",
    "\n",
    "X_z = sum(x_n[n] * z**(-n) for n in range(len(x_n)))\n",
    "\n",
    "print(\"Symbolic Z-transform X(z):\")\n",
    "sp.pprint(X_z, use_unicode=True)\n",
    "\n",
    "z_val = 10\n",
    "X_val = X_z.subs(z, z_val)\n",
    "\n",
    "print(\"\\nZ-transform evaluated at z = 10:\")\n",
    "print(X_val)\n",
    "\n",
    "is_right_sided = all(x_n[i] == 0 for i in range(-1, -len(x_n)-1, -1))\n",
    "\n",
    "if is_right_sided:\n",
    "    print(\"The signal is RIGHT-sided (causal).\")\n",
    "else:\n",
    "    print(\"The signal is LEFT-sided.\")\n"
   ]
  }
 ],
 "metadata": {
  "kernelspec": {
   "display_name": "Python 3",
   "language": "python",
   "name": "python3"
  },
  "language_info": {
   "codemirror_mode": {
    "name": "ipython",
    "version": 3
   },
   "file_extension": ".py",
   "mimetype": "text/x-python",
   "name": "python",
   "nbconvert_exporter": "python",
   "pygments_lexer": "ipython3",
   "version": "3.13.1"
  }
 },
 "nbformat": 4,
 "nbformat_minor": 2
}
